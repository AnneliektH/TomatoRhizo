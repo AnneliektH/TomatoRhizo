{
 "cells": [
  {
   "cell_type": "markdown",
   "id": "f54dba09",
   "metadata": {},
   "source": [
    "# Extracted total soil RNA from rhizosphere samples\n",
    "\n",
    "Anneliek ter Horst, March 2023\n",
    "\n",
    "- Use this data to look for RNA viruses\n",
    "- Looking for RdRp sequences in the data\n",
    "- 3 samples were unsuccesful in extracting RNA (14C2RT1,78C1RT1,78T1RT1)"
   ]
  },
  {
   "cell_type": "markdown",
   "id": "059843a9",
   "metadata": {},
   "source": [
    "## Trimmomatic\n",
    "- Trim adapter sequences\n",
    "- http://www.usadellab.org/cms/?page=trimmomatic\n",
    "- Bolger, A. M., Lohse, M., & Usadel, B. (2014). Trimmomatic: A flexible trimmer for Illumina Sequence Data. Bioinformatics, btu170."
   ]
  },
  {
   "cell_type": "code",
   "execution_count": null,
   "id": "5393925a",
   "metadata": {},
   "outputs": [],
   "source": [
    "# Load java\n",
    "# Had multiple sequencing files per sample\n",
    "module load java\n",
    "        \n",
    "java -jar /home/amhorst/programs/Trimmomatic-0.39/trimmomatic-0.39.jar \\\n",
    "PE -threads 8 -phred33 \\\n",
    "$1 ${1%_R1_*}_R2_001.fastq.gz \\\n",
    "${1%_R1_*}_R1.fastq.gz ${1%_R1_*}_R1_unpaired.fastq.gz \\\n",
    "${1%_R1_*}_R2.fastq.gz .${1%_R1_*}_R1_unpaired.fastq.gz \\\n",
    "ILLUMINACLIP:/programs/Trimmomatic-0.39/adapters/TruSeq3-PE.fa:2:30:10 \\\n",
    "SLIDINGWINDOW:4:30 MINLEN:50 \n",
    "                            "
   ]
  },
  {
   "cell_type": "markdown",
   "id": "7af1ff46",
   "metadata": {},
   "source": [
    "## Use Bowtie2 to map back reads to tomato genome\n",
    "- Mapping to https://www.ncbi.nlm.nih.gov/assembly/GCA_012431665.1#/st (tomato)\n",
    "- Make a bowtie2 index\n",
    "- map reads to index using bowtie2\n",
    "- http://bowtie-bio.sourceforge.net/bowtie2/index.shtml\n",
    "- to save room we write to --un-conc-gz --> will be fq.gz file with reads not mapped to reference\n",
    "- the sam file will contain only mapped reads (mapped to host genome) and will be removed as soon script is done\n"
   ]
  },
  {
   "cell_type": "code",
   "execution_count": null,
   "id": "c2ce0179",
   "metadata": {},
   "outputs": [],
   "source": [
    "# create folders in the reads folders\n",
    "cd reads\n",
    "mkdir rmhost\n",
    "mkdir rmhost/samfiles\n",
    "mkdir rmhost/unpaired\n",
    "\n",
    "# Load bowtie\n",
    "module load bowtie2\n",
    "\n",
    "# Reference file is in /home/amhorst/plant_genomes/\n",
    "'''PAIRED'''\n",
    "\n",
    "#!/bin/bash\n",
    "#SBATCH --job-name=bowtie\n",
    "#SBATCH --nodes=1\n",
    "#SBATCH -t 4:00:00 \n",
    "#SBATCH --cpus-per-task=80\n",
    "#SBATCH --output=./bowtiehost_%j.out\n",
    "#SBATCH --error=./bowtiehost_%j.err\n",
    "#SBATCH --partition=high2\n",
    "\n",
    "#load modules\n",
    "module load bowtie2\n",
    "aklog\n",
    "\n",
    "for f in *_R1*.fastq.gz\n",
    "do\n",
    "echo $f\n",
    "bowtie2 --threads 80 --sensitive \\\n",
    "-x /home/amhorst/plant_genomes/tomato_genome \\\n",
    "-1 $f -2 ${f%_R1*}_R2.fastq.gz \\\n",
    "--un-conc-gz ../rmhost/${f%%_R1*} -S ../rmhost/samfiles/${f%%_R1*}_paired.sam --no-unal \\\n",
    "&& rm ../rmhost/samfiles/${f%%_R1*}_paired.sam\n",
    "done\n",
    "\n",
    "\n",
    "'''UNPAIRED'''\n",
    "\n",
    "#!/bin/bash\n",
    "#SBATCH --job-name=bowtie\n",
    "#SBATCH --nodes=1\n",
    "#SBATCH -t 02:00:00 \n",
    "#SBATCH --cpus-per-task=33\n",
    "#SBATCH --output=./bowtiehost_%j.out\n",
    "#SBATCH --error=./bowtiehost_%j.err\n",
    "#SBATCH --partition=high2\n",
    "\n",
    "#load modules\n",
    "module load bowtie2\n",
    "aklog\n",
    "\n",
    "for f in *_R1*.fastq.gz; do\n",
    "echo $f\n",
    "bowtie2 --threads 33 --sensitive \\\n",
    "-x /home/amhorst/plant_genomes/tomato_genome \\\n",
    "-U ./unpaired/${f%_R1*}_R2_unpaired.fastq.gz,./unpaired/${f%_R1_*}_R1_unpaired.fastq.gz \\\n",
    "--un-gz ../rmhost/unpaired/${f%%_R1*} -S ../rmhost/samfiles/${f%%_R1*}_unpaired.sam --no-unal \\\n",
    "&& rm ../rmhost/samfiles/${f%%_R1*}_unpaired.sam\n",
    "done\n",
    "\n",
    "'''RENAME'''\n",
    "\n",
    "# Bowtie is done but gives files weird names: Rename\n",
    "\n",
    "# for the unpaired ones\n",
    "for f in $(ls *) ; do \n",
    "echo $f\n",
    "echo ${f%%}_unpaired.fq.gz\n",
    "mv $f ${f%%}_unpaired.fq.gz\n",
    "done\n",
    "\n",
    "# for paired\n",
    "for f in $(ls *.1) ; do \n",
    "echo $f\n",
    "echo ${f%%.1*}_R1_rmhost.fq.gz\n",
    "mv $f ${f%%.1*}_R1_rmhost.fq.gz\n",
    "done\n",
    "\n",
    "for f in $(ls *.2) ; do \n",
    "echo $f\n",
    "echo ${f%%.2*}_R2_rmhost.fq.gz\n",
    "mv $f ${f%%.2*}_R2_rmhost.fq.gz\n",
    "done"
   ]
  },
  {
   "cell_type": "markdown",
   "id": "e8571b1e",
   "metadata": {},
   "source": [
    "## Assemble using MEGAHIT\n",
    "- https://github.com/voutcn/megahit\n",
    "- https://academic.oup.com/bioinformatics/article/31/10/1674/177884\n",
    "- Single sample assemblies"
   ]
  },
  {
   "cell_type": "code",
   "execution_count": null,
   "id": "b6cadafb",
   "metadata": {},
   "outputs": [],
   "source": [
    "# load modules\n",
    "module load megahit\n",
    "\n",
    "for f in *R1*\n",
    "do\n",
    "echo $f\n",
    "megahit -1 $f -2 ${f%%_R1*}_R2_rmhost.fq.gz \\\n",
    "-r ./unpaired/${f%%_R1*}_unpaired.fq.gz \\\n",
    "-t 120 --continue --k-min 27 --min-contig-len 200 -m 0.095 \\\n",
    "--presets meta-large \\\n",
    "-o  ../../assemblies/${f%%_R1*} && mv $f ./done\n",
    "done"
   ]
  },
  {
   "cell_type": "markdown",
   "id": "54125259",
   "metadata": {},
   "source": [
    "## Rename contigs using bbmap package\n",
    "- https://jgi.doe.gov/data-and-tools/software-tools/bbtools/\n",
    "- https://journals.plos.org/plosone/article?id=10.1371/journal.pone.0185056"
   ]
  },
  {
   "cell_type": "code",
   "execution_count": null,
   "id": "0337281a",
   "metadata": {},
   "outputs": [],
   "source": [
    "# load module\n",
    "module load bbmap\n",
    "\n",
    "# rename all contigs in each fasta file after the fasta file\n",
    "for f in *.fa\n",
    "do \n",
    "echo $f\n",
    "rename.sh in=$f out=${f%%.fa*}_renamed.fa prefix=${f%%.fa*}\n",
    "done "
   ]
  },
  {
   "cell_type": "markdown",
   "id": "ee37f49c",
   "metadata": {},
   "source": [
    "## Predict genes using Prodigal\n",
    "Use predicted proteins for 2 things:\n",
    "1. Look for RdRp sequences using HMM profiles\n",
    "2. BlastP against DIAMOND prokaryote db(RefSeq nr v 203)\n"
   ]
  },
  {
   "cell_type": "code",
   "execution_count": null,
   "id": "67bcdd08",
   "metadata": {},
   "outputs": [],
   "source": [
    "# Load prodigal env\n",
    "source ~/.bashrc\n",
    "conda activate prodigal\n",
    "\n",
    "# make prodigal directory\n",
    "mkdir ../prodigal/\n",
    "\n",
    "# Loop through fasta files (contigs)\n",
    "for f in *.fa\n",
    "do\n",
    "# predict genes with prodigal for each file\n",
    "prodigal -i $f -a ../prodigal/${f%%.fa*}_proteins.faa -p meta -q\n",
    "done"
   ]
  },
  {
   "cell_type": "markdown",
   "id": "023cb0bf",
   "metadata": {},
   "source": [
    "## HMM search for RdRp sequences\n",
    "- Read more about RdRps here: http://pfam.xfam.org/family/PF00680\n",
    "- Download the alignment in selex format from the PFAM website\n",
    "- Hmms from Star et al., 2019\n",
    "- evalue treshold of 0.00001"
   ]
  },
  {
   "cell_type": "code",
   "execution_count": null,
   "id": "35c92d48",
   "metadata": {},
   "outputs": [],
   "source": [
    "# make output directories\n",
    "mkdir ../hmm_search\n",
    "mkdir ../hmm_search/out\n",
    "\n",
    "#Load module\n",
    "module load hmmer/3.3.2\n",
    "\n",
    "# Loop through the gene prediction files (proteins)\n",
    "# Need a domtblowout for python input. \n",
    "for f in 230110_all_3rdco_proteins.faa\n",
    "do\n",
    "echo $f\n",
    "hmmsearch --cpu 1 -o ../hmm_search/out/${f%%_proteins.faa*}.out \\\n",
    "--domtblout ../hmm_search/${f%%_proteins.faa*}_tabular.out \\\n",
    "/home/amhorst/hmm_profiles_rdrp/all_RdRp.hmm $f \n",
    "done"
   ]
  },
  {
   "cell_type": "markdown",
   "id": "6b5ee111",
   "metadata": {},
   "source": [
    "## BlastP against DIAMOND prokaryote db \n",
    "- Use the DIAMOND prokaryote db for blasting (RefSeq nr v 203)\n",
    "- do a DIAMOND blastP of all predicted proteins to the DIAMOND db of prokaryotes. \n",
    "- Then isolate the contigs that have predicted proteins from prokaryotes\n",
    "- Map reads against these contigs and remove\n",
    "- re-assemble remaining reads"
   ]
  },
  {
   "cell_type": "code",
   "execution_count": null,
   "id": "38b1809b",
   "metadata": {},
   "outputs": [],
   "source": [
    "# create the database in correct diamond form\n",
    "module load diamond/0.9.22.123 \n",
    "\n",
    "diamond makedb --in bact_nr_prot.faa \\\n",
    "--db ./prok.dmnd -p 60"
   ]
  },
  {
   "cell_type": "code",
   "execution_count": null,
   "id": "5a05a370",
   "metadata": {},
   "outputs": [],
   "source": [
    "# remove spaces from protein fasta headers\n",
    "sed '/^>/ s/ .*//' predicted_proteins.faa >> predicted_proteins_nospaces.faa\n",
    "\n",
    "\n",
    "# DIAMOND blast (very fast)\n",
    "module load diamond/0.9.22.123 \n",
    "\n",
    "diamond blastp \\\n",
    "-d /home/amhorst/diamond/prok.dmnd \\\n",
    "-q ./predicted_proteins_nospaces.faa \\\n",
    "-o ../diamond/all_proteins_diamond_prok.results \\\n",
    "-f 6 qseqid sseqid evalue \\\n",
    "--evalue 1e-6 \\\n",
    "-k 1 -p 160\n",
    "\n",
    "# Now for the result file, keep only the list with protein sequence names that have a prokaryote hit\n",
    "for f in *.results\n",
    "do\n",
    "tr -d ' ' < $f | cut -d$'\\t' -f1 | sort -u > ${f%%.results*}.txt \n",
    "done\n",
    "\n",
    "# remove the last 2 chars from each of the protein names (bc we want the contig names)\n",
    "sed 's/..$//' < all_proteins_diamond_prok.txt > diamond_prok_contigs.txt\n"
   ]
  },
  {
   "cell_type": "code",
   "execution_count": null,
   "id": "aefb7da6",
   "metadata": {},
   "outputs": [],
   "source": [
    "# Use bbmap to keep all contigs with prokaryotic protien predicted\n",
    "module load bbmap\n",
    "filterbyname.sh in=all_nucl_contigs_rename.cluster.fa out=../diamond/diamond_prok.fa \\\n",
    "names=../diamond/diamond_prok_contigs.txt include=t \n",
    "\n",
    "\n",
    "\n",
    "# Make a bowtie2 db from all the nucleotide sequences that had a predicted prokaryote protein\n",
    "module load bowtie2\n",
    "bowtie2-build --threads 150 pred_prok.fa pred_prok\n",
    "\n",
    "\n",
    "# map reads and only keep reads that don't map to these"
   ]
  },
  {
   "cell_type": "markdown",
   "id": "7784f319",
   "metadata": {},
   "source": [
    "## Re-assemble using MEGAHIT\n",
    "- After removing prokaryote reads, re-assemble\n",
    "- Do co-assembly (cause smaller dataset)\n",
    "- after re-assembling, predict proteins again, and do the same thing as above"
   ]
  },
  {
   "cell_type": "code",
   "execution_count": null,
   "id": "09102366",
   "metadata": {},
   "outputs": [],
   "source": [
    "# example co-assembly for one set of data (14)\n",
    "module load megahit\n",
    "\n",
    "megahit \\\n",
    "-1 14C1RT1.1,14C1RT2.1,14C1RT3.1,14C2RT2.1,14C2RT3.1 \\\n",
    "-2 14C1RT1.2,14C1RT2.2,14C1RT3.2,14C2RT2.2,14C2RT3.2 \\\n",
    "-r ./unpaired/14C1RT1_unpaired,./unpaired/14C1RT2_unpaired,./unpaired/14C1RT3_unpaired,./unpaired/14C2RT2_unpaired,./unpaired/14C2RT3_unpaired \\\n",
    "-t 120 --continue --k-min 27 --min-contig-len 200 -m 0.095 \\\n",
    "--presets meta-large \\\n",
    "-o ../../co_assemblies/14C1R"
   ]
  },
  {
   "cell_type": "markdown",
   "id": "db7e9c6a",
   "metadata": {},
   "source": [
    "## Use dRep to dereplicate final set of sequences\n",
    "- Dereplicate the nucleotide sequences that had a predicted RdRp\n",
    "- Use same set of conditions as for DNA viruses \n",
    "- https://drep.readthedocs.io/en/latest/\n",
    "- https://www.nature.com/ismej/articles"
   ]
  },
  {
   "cell_type": "code",
   "execution_count": null,
   "id": "19a2470e",
   "metadata": {},
   "outputs": [],
   "source": [
    "# Now drep\n",
    "source ~/.bashrc\n",
    "conda activate drep\n",
    "\n",
    "module load mummer\n",
    "module load mash\n",
    "module load bowtie2\n",
    "\n",
    "dRep dereplicate ./drep --S_algorithm ANImf --ignoreGenomeQuality -l 200 -sa 0.95 -nc 0.85 \\\n",
    "-g ./contigs/*.fa -p 14"
   ]
  },
  {
   "cell_type": "markdown",
   "id": "5042761d",
   "metadata": {},
   "source": [
    "## Use Bowtie2 to map back reads to viral contigs\n",
    "- Make a bowtie2 index\n",
    "- map reads to index using bowtie2\n",
    "- http://bowtie-bio.sourceforge.net/bowtie2/index.shtml\n",
    "- https://www.ncbi.nlm.nih.gov/pmc/articles/PMC3322381/\n",
    "- Convert samfiles to bamfiles using samtools\n",
    "- index bamfiles using samtools\n",
    "- http://www.htslib.org/\n",
    "- https://academic.oup.com/bioinformatics/article/25/16/2078/204688\n"
   ]
  },
  {
   "cell_type": "code",
   "execution_count": null,
   "id": "1099bfd4",
   "metadata": {},
   "outputs": [],
   "source": [
    "# Map to derepped set of viral like sequences\n",
    "for f in *_R1_*.fq.gz\n",
    "do \n",
    "bowtie2 --threads 40 \\\n",
    "-x ../../mapping/viral_map_db \\\n",
    "-1 $f \\\n",
    "-2 ${f%%_R1_*}_R2_rmhost.fq.gz \\\n",
    "-S  ../../mapping/${f%%_R1_*}.sam --no-unal --sensitive\n",
    "done"
   ]
  },
  {
   "cell_type": "markdown",
   "id": "cd1f892a",
   "metadata": {},
   "source": [
    "## Use samtools to convert \n",
    "- Convert sam to bam files\n",
    "- Index the bam files\n",
    "- https://github.com/samtools/samtools"
   ]
  },
  {
   "cell_type": "code",
   "execution_count": null,
   "id": "c2a6e190",
   "metadata": {},
   "outputs": [],
   "source": [
    "# sam to bam \n",
    "for f in *.sam\n",
    "do\n",
    "samtools view -@ 12 -F 4 -bS $f | samtools sort > ${f%.sam*}.bam\n",
    "done\n",
    "\n",
    "# index the bam files\n",
    "for f in *.bam\n",
    "do\n",
    "samtools index $f\n",
    "done\n"
   ]
  },
  {
   "cell_type": "markdown",
   "id": "728bdfd0",
   "metadata": {},
   "source": [
    "## Use CoverM to make a coverage table\n",
    "- https://github.com/wwood/CoverM\n",
    "- https://wwood.github.io/CoverM/coverm-genome.html#author"
   ]
  },
  {
   "cell_type": "code",
   "execution_count": null,
   "id": "a0355d42",
   "metadata": {},
   "outputs": [],
   "source": [
    "source ~/.bashrc\n",
    "conda activate coverm\n",
    "    \n",
    "coverm contig -m mean --min-covered-fraction 0.75 -b *.bam > 230226_covtab_RNA_tomato.tsv\n"
   ]
  }
 ],
 "metadata": {
  "kernelspec": {
   "display_name": "Python 3",
   "language": "python",
   "name": "python3"
  },
  "language_info": {
   "codemirror_mode": {
    "name": "ipython",
    "version": 3
   },
   "file_extension": ".py",
   "mimetype": "text/x-python",
   "name": "python",
   "nbconvert_exporter": "python",
   "pygments_lexer": "ipython3",
   "version": "3.8.5"
  }
 },
 "nbformat": 4,
 "nbformat_minor": 5
}
