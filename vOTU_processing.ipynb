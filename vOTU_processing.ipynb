{
 "cells": [
  {
   "cell_type": "markdown",
   "id": "9a4f6698",
   "metadata": {},
   "source": [
    "# Getting viral sequences from virome sequencing data\n",
    "Anneliek ter Horst, March 2023\n",
    "\n",
    "We are starting with sequencing data from UC Davis Russell Ranch Sustainable Agriculture Facility, Davis, CA. Part of this is done using Snakemake\n",
    "\n",
    "1. Clean sequencing reads: remove adapter sequences using trimmomatic\n",
    "2. Clean sequencing reads: remove PhiX spike using bbduk\n",
    "3. Assembly into contigs using MEGAHIT"
   ]
  },
  {
   "cell_type": "markdown",
   "id": "657517d0",
   "metadata": {},
   "source": [
    "## Main snakefile:\n",
    "Start with a text file thats a list of samples"
   ]
  },
  {
   "cell_type": "code",
   "execution_count": null,
   "id": "114fc95b",
   "metadata": {},
   "outputs": [],
   "source": [
    "# main snakefile:\n",
    "\n",
    "# include all the other snakefiles\n",
    "include: \"trimmomatic.snakefile\"\n",
    "\n",
    "# import pandas\n",
    "import pandas as pd\n",
    "\n",
    "# Import sample names\n",
    "samples_df =  pd.read_csv('samples.txt', sep='\\t').set_index(\"sample\", drop=False)\n",
    "SAMPLES = list(samples_df['sample'])\n",
    "\n",
    "\n",
    "# input is dus actually the final output\n",
    "rule all:\n",
    "    input:\n",
    "         expand(\"reads/trimmomatic/out/{sample}_trim_done.txt\", sample=SAMPLES)\n",
    "\n"
   ]
  },
  {
   "cell_type": "markdown",
   "id": "059843a9",
   "metadata": {},
   "source": [
    "## Trimmomatic\n",
    "- Trim adapter sequences\n",
    "- http://www.usadellab.org/cms/?page=trimmomatic\n",
    "- Bolger, A. M., Lohse, M., & Usadel, B. (2014). Trimmomatic: A flexible trimmer for Illumina Sequence Data. Bioinformatics, btu170."
   ]
  },
  {
   "cell_type": "code",
   "execution_count": null,
   "id": "941040c5",
   "metadata": {},
   "outputs": [],
   "source": [
    "# trimmomatic snakefile\n",
    "# run trimmomatic on raw reads\n",
    "rule trimmomatic:\n",
    "    input:\n",
    "        forward_raw = \"reads/raw/{sample}_R1.fastq.gz\",\n",
    "        reverse_raw = \"reads/raw/{sample}_R2.fastq.gz\"\n",
    "    output:\n",
    "        forward_paired = \"reads/trimmomatic/{sample}_R1_paired.fq.gz\",\n",
    "        forward_unpaired = \"reads/trimmomatic/unpaired/{sample}_R1_unpaired.fq.gz\",\n",
    "        reverse_paired = \"reads/trimmomatic/{sample}_R2_paired.fq.gz\",\n",
    "        reverse_unpaired = \"reads/trimmomatic/unpaired/{sample}_R2_unpaired.fq.gz\",\n",
    "        check = \"reads/trimmomatic/out/{sample}_trim_done.txt\"\n",
    "        \n",
    "    message: \"Trimming Illumina adapters from {input.forward_raw} and {input.reverse_raw}\"\n",
    "    shell:'''\n",
    "        module load java\n",
    "        java -jar /home/amhorst/programs/Trimmomatic-0.39/trimmomatic-0.39.jar PE -threads 8 -phred33 {input.forward_raw} {input.reverse_raw} \\\n",
    "        {output.forward_paired} {output.forward_unpaired} \\\n",
    "        {output.reverse_paired} {output.reverse_unpaired} \\\n",
    "        ILLUMINACLIP:/home/amhorst/programs/Trimmomatic-0.39/adapters/TruSeq3-PE.fa:2:30:10 \\\n",
    "        SLIDINGWINDOW:4:30 MINLEN:50 && touch {output.check}\n",
    "        '''\n",
    "        "
   ]
  },
  {
   "cell_type": "markdown",
   "id": "f3ca5fbd",
   "metadata": {},
   "source": [
    "## Use Bowtie2 to map back reads to tomato genome\n",
    "- Mapping to https://www.ncbi.nlm.nih.gov/assembly/GCA_012431665.1#/st (tomato)\n",
    "- Make a bowtie2 index\n",
    "- map reads to index using bowtie2\n",
    "- http://bowtie-bio.sourceforge.net/bowtie2/index.shtml\n",
    "- to save room we write to --un-conc-gz --> will be fq.gz file with reads not mapped to reference\n",
    "- the sam file will contain only mapped reads (mapped to host genome) and will be removed as soon script is done\n"
   ]
  },
  {
   "cell_type": "code",
   "execution_count": null,
   "id": "87d93a2e",
   "metadata": {},
   "outputs": [],
   "source": [
    "# create folders in the reads folders\n",
    "cd 2021_tomato_rhizo/reads\n",
    "mkdir rmhost\n",
    "mkdir rmhost/samfiles\n",
    "mkdir rmhost/unpaired\n",
    "\n",
    "\n",
    "# Load module\n",
    "module load bowtie2\n",
    "\n",
    "# make reference file\n",
    "cd /home/amhorst/plant_genomes/\n",
    "bowtie2-build tomato_genome.fa tomato_genome \n"
   ]
  },
  {
   "cell_type": "code",
   "execution_count": null,
   "id": "e7822a31",
   "metadata": {},
   "outputs": [],
   "source": [
    "# Check names\n",
    "for f in *_R1_*.fq.gz; do\n",
    "echo $f\n",
    "echo ${f%_R1_*}_rmphix.fq.gz\n",
    "echo ./unpaired/${f%_R1_*}_R2_unpaired.fq.gz\n",
    "echo ./unpaired/${f%_R1_*}_R1_unpaired.fq.gz\n",
    "done\n",
    "\n",
    "'''PAIRED'''\n",
    "\n",
    "#!/bin/bash\n",
    "#SBATCH --job-name=bowtie\n",
    "#SBATCH --nodes=1\n",
    "#SBATCH -t 4:00:00 \n",
    "#SBATCH --ntasks=12\n",
    "#SBATCH --output=../../out/bowtiehost_%j.out\n",
    "#SBATCH --error=../../err/bowtiehost_%j.err\n",
    "#SBATCH --partition=bmm\n",
    "\n",
    "#load modules\n",
    "module load bowtie2\n",
    "aklog\n",
    "\n",
    "for f in *_R1_*.fq.gz; do\n",
    "echo $f\n",
    "bowtie2 --threads 12 --sensitive \\\n",
    "-x /home/amhorst/plant_genomes/tomato_genome \\\n",
    "-1 $f -2 ${f%_R1_*}_R2_rmphix.fq.gz \\\n",
    "--un-conc-gz ../rmhost/${f%%_R1_*} -S ../rmhost/samfiles/${f%%_R1_*}paired.sam --no-unal \\\n",
    "&& rm ../rmhost/samfiles/${f%%_R1_*}paired.sam\n",
    "done\n",
    "\n",
    "'''UNPAIRED'''\n",
    "\n",
    "#!/bin/bash\n",
    "#SBATCH --job-name=bowtie\n",
    "#SBATCH --nodes=1\n",
    "#SBATCH -t 4:00:00 \n",
    "#SBATCH --ntasks=12\n",
    "#SBATCH --output=../../out/bowtiehost_%j.out\n",
    "#SBATCH --error=../../err/bowtiehost_%j.err\n",
    "#SBATCH --partition=bmm\n",
    "\n",
    "#load modules\n",
    "module load bowtie2\n",
    "aklog\n",
    "\n",
    "for f in *_R1_*.fq.gz; do\n",
    "echo $f\n",
    "bowtie2 --threads 12 --sensitive \\\n",
    "-x /home/amhorst/plant_genomes/tomato_genome \\\n",
    "-U ./unpaired/${f%_R1_*}_R2_unpaired.fq.gz,./unpaired/${f%_R1_*}_R1_unpaired.fq.gz \\\n",
    "--un-gz ../rmhost/unpaired/${f%%_R1_*} -S ../rmhost/samfiles/${f%%_R1_*}unpaired.sam --no-unal \\\n",
    "&& rm ../rmhost/samfiles/${f%%_R1_*}unpaired.sam\n",
    "done\n",
    "\n",
    "'''RENAME'''\n",
    "\n",
    "# Bowtie is done but gives files weird names: Rename\n",
    "\n",
    "# for the unpaired ones\n",
    "for f in $(ls *L00*) ; do \n",
    "echo $f\n",
    "echo ${f%%}_unpaired.fq.gz\n",
    "mv $f ${f%%}_unpaired.fq.gz\n",
    "done\n",
    "\n",
    "# for paired\n",
    "for f in $(ls *.1) ; do \n",
    "echo $f\n",
    "echo ${f%%.1*}_R1_rmhost.fq.gz\n",
    "mv $f ${f%%.1*}_R1_rmhost.fq.gz\n",
    "done\n",
    "\n",
    "for f in $(ls *.2) ; do \n",
    "echo $f\n",
    "echo ${f%%.2*}_R2_rmhost.fq.gz\n",
    "mv $f ${f%%.2*}_R2_rmhost.fq.gz\n",
    "done\n",
    "\n",
    "# Remove the S_ part\n",
    "for f in *.fq.gz\n",
    "do \n",
    "echo $f\n",
    "newname=$( echo $f | sed -r 's/_S[0-9]{3}_/_/' ); mv $f $newname; done\n",
    "done\n"
   ]
  },
  {
   "cell_type": "markdown",
   "id": "1fcd6933",
   "metadata": {},
   "source": [
    "## Assembly of the clean reads using MEGAHIT\n",
    "- https://github.com/voutcn/megahit\n",
    "- https://academic.oup.com/bioinformatics/article/31/10/1674/177884"
   ]
  },
  {
   "cell_type": "code",
   "execution_count": null,
   "id": "2cfa8c26",
   "metadata": {},
   "outputs": [],
   "source": [
    "# megahit doesnt want to create the temp folder\n",
    "# this version is currently working\n",
    "# megahit \n",
    "rule PE_assembly:\n",
    "    input: \n",
    "        forward_read = \"reads/rmhost/{sample}_R1_rmhost.fq.gz\", \n",
    "        reverse_read = \"reads/rmhost/{sample}_R2_rmhost.fq.gz\",\n",
    "        unpaired = \"reads/rmhost/unpaired/{sample}_unpaired.fq.gz\"\n",
    "    output:\n",
    "        check = \"assemblies/out/{sample}_assem_done.txt\",\n",
    "        out_contig = \"assemblies/megahit_final/{sample}.contigs.fa\" \n",
    "    params:\n",
    "        output_folder = \"assemblies/megahit_final\",\n",
    "        output_temp = \"assemblies/megahit_temp\"\n",
    "    message: \"paired end assembly on {input.forward_read}\"\n",
    "    shell:'''\n",
    "    mkdir -p  assemblies/megahit_temp/\n",
    "    module load megahit\n",
    "    \n",
    "    # megahit does not allow force overwrite, so each assembly needs to take place in it's own directory. \n",
    "    megahit -1 {input.forward_read} -2 {input.reverse_read} \\\n",
    "    -r {input.unpaired} \\\n",
    "    -t 16 --continue --k-min 27 --min-contig-len 1000 --presets meta-large -m 0.095 \\\n",
    "    --out-dir {params.output_temp}/{wildcards.sample} \\\n",
    "    --out-prefix {wildcards.sample} && \\\n",
    "    mv {params.output_temp}/{wildcards.sample}/{wildcards.sample}.contigs.fa \\\n",
    "    {params.output_folder} && touch {output.check}\n",
    "    '''"
   ]
  },
  {
   "cell_type": "markdown",
   "id": "04e851af",
   "metadata": {},
   "source": [
    "## Renaming contigs and split on lenght\n",
    "- MEGAHIT outputs contigs with spaces in filenames, don't like that\n",
    "- Only keep contigs > 10kb for predicting viruses\n",
    "- Using bbmap package\n",
    "- https://jgi.doe.gov/data-and-tools/software-tools/bbtools/\n",
    "- https://journals.plos.org/plosone/article?id=10.1371/journal.pone.0185056"
   ]
  },
  {
   "cell_type": "code",
   "execution_count": null,
   "id": "9046a110",
   "metadata": {},
   "outputs": [],
   "source": [
    "# rename contigs and  split off contigs >10kb\n",
    "# rename contigs and  split off contigs >10kb\n",
    "rule rename_contigs:\n",
    "    input:\n",
    "        contigs = \"assemblies/megahit_final/{sample}.contigs.fa\",\n",
    "        check = \"assemblies/out/{sample}_assem_done.txt\"\n",
    "    output:\n",
    "        contigs_renamed = \"outputs/megahit_final/{sample}.contigs_renamed.fa\",\n",
    "        assembly_stats = \"outputs/megahit_final/stats_assembly/{sample}.megahit.stats.txt\",\n",
    "        contigs_10kb = \"outputs/megahit_final/{sample}.contigs_10kb.fa\",\n",
    "        check = \"assemblies/out/{sample}_reformat_done.txt\"\n",
    "    # print a message on what its doing\n",
    "    message: \"renaming contigs of sample {input.contigs}\"\n",
    "    shell:'''\n",
    "    module load bbmap\n",
    "    rename.sh in={input.contigs} out={output.contigs_renamed} prefix={wildcards.sample} && \\\n",
    "    reformat.sh in={output.contigs_renamed} out={output.contigs_10kb} minlength=10000 &&\n",
    "    stats.sh in={output.contigs_renamed} gc={output.assembly_stats} gcformat=3 && touch {output.check}\n",
    "    '''"
   ]
  },
  {
   "cell_type": "markdown",
   "id": "f38079a4",
   "metadata": {},
   "source": [
    "## Use VIBRANT to predict viral contigs from all contigs\n",
    "- https://github.com/AnantharamanLab/VIBRANT\n",
    "- https://pubmed.ncbi.nlm.nih.gov/32522236/"
   ]
  },
  {
   "cell_type": "code",
   "execution_count": null,
   "id": "3b4ae02f",
   "metadata": {},
   "outputs": [],
   "source": [
    "# Same thing with a temp folder for snakemake as with MEGAHIT\n",
    "# run vibrant\n",
    "rule vibrant:\n",
    "    input:\n",
    "        contigs = \"outputs/megahit_final/{sample}.contigs_10kb.fa\",\n",
    "        check = \"assemblies/out/{sample}_reformat_done.txt\"\n",
    "    output:\n",
    "        vibrant_contig = \"outputs/vibrant_final/{sample}.contigs_10kb.phages_combined.fna\",\n",
    "        check = \"outputs/out/{sample}_vibrant_done.txt\"\n",
    "    params:\n",
    "        output_folder = \"outputs/vibrant_final\",\n",
    "        output_temp = \"outputs/vibrant_temp\"\n",
    "    # print a message on what its doing\n",
    "    message: \"running vibrant on {input.contigs}\"\n",
    "    shell:'''\n",
    "    mkdir -p  outputs/vibrant_temp/\n",
    "    \n",
    "    set +u\n",
    "    source ~/.bashrc\n",
    "    conda activate vibrant\n",
    "    set -u\n",
    "    \n",
    "    VIBRANT_run.py -i {input.contigs} -folder {params.output_temp}/{wildcards.sample} \\\n",
    "    -t 8 -l 10000 -o 4 -virome && \\\n",
    "    mv {params.output_temp}/{wildcards.sample}/VIBRANT_{wildcards.sample}.contigs_10kb/VIBRANT_phages_{wildcards.sample}.contigs_10kb/{wildcards.sample}.contigs_10kb.phages_combined.fna \\\n",
    "    {params.output_folder} && touch {output.check} \n",
    "    '''"
   ]
  },
  {
   "cell_type": "markdown",
   "id": "6cbb5e4e",
   "metadata": {},
   "source": [
    "## Use dRep to dereplicate viral contigs. \n",
    "- https://drep.readthedocs.io/en/latest/\n",
    "- https://www.nature.com/ismej/articles"
   ]
  },
  {
   "cell_type": "code",
   "execution_count": null,
   "id": "a0116e24",
   "metadata": {},
   "outputs": [],
   "source": [
    "# split contigs into individual fastas (dRep accepts individual contigs only)\n",
    "mkdir contigs\n",
    "cd ./contigs\n",
    "awk '/^>/ {OUT=substr($0,2) \".fa\"}; OUT {print >OUT}' ../*.fa \n",
    "\n",
    "\n",
    "# Activate dRep conda instance\n",
    "source ~/.bashrc\n",
    "conda activate drep\n",
    "\n",
    "# Load other programs that dRep needs\n",
    "module load mummer\n",
    "module load mash\n",
    "module load bowtie2\n",
    "\n",
    "# Run dRep at 95% ANI over 85% of length of longest contigs\n",
    "dRep dereplicate ./drep --S_algorithm ANImf --ignoreGenomeQuality -l 10000 -sa 0.95 -nc 0.85 \\\n",
    "-g ./contigs/*.fa -p 14\n"
   ]
  },
  {
   "cell_type": "markdown",
   "id": "5042761d",
   "metadata": {},
   "source": [
    "## Use Bowtie2 to map back reads to viral contigs\n",
    "- Make a bowtie2 index\n",
    "- map reads to index using bowtie2\n",
    "- http://bowtie-bio.sourceforge.net/bowtie2/index.shtml\n",
    "- https://www.ncbi.nlm.nih.gov/pmc/articles/PMC3322381/\n",
    "- Convert samfiles to bamfiles using samtools\n",
    "- index bamfiles using samtools\n",
    "- http://www.htslib.org/\n",
    "- https://academic.oup.com/bioinformatics/article/25/16/2078/204688\n"
   ]
  },
  {
   "cell_type": "code",
   "execution_count": null,
   "id": "fdf2482c",
   "metadata": {},
   "outputs": [],
   "source": [
    "# map all clean reads both to final set of vOTUs\n",
    "\n",
    "#load modules\n",
    "module load bowtie2\n",
    "\n",
    "bowtie2 --threads 12 --sensitive \\\n",
    "-x 220118_tomato_rhizo_finaldrep \\\n",
    "-1 $1 \\\n",
    "-2 ${1%_R1*}_R2_rmhost.fq.gz \\\n",
    "-S ./2021_tomato_rhizo/mapping/final/${1%%_R1_*} \\\n",
    "--no-unal --sensitive "
   ]
  },
  {
   "cell_type": "markdown",
   "id": "cd1f892a",
   "metadata": {},
   "source": [
    "## Use samtools to convert \n",
    "- Convert sam to bam files\n",
    "- Index the bam files\n",
    "- https://github.com/samtools/samtools"
   ]
  },
  {
   "cell_type": "code",
   "execution_count": null,
   "id": "c2a6e190",
   "metadata": {},
   "outputs": [],
   "source": [
    "# sam to bam \n",
    "for f in *.sam\n",
    "do\n",
    "samtools view -@ 12 -F 4 -bS $f | samtools sort > ${f%.sam*}.bam\n",
    "done\n",
    "\n",
    "# index the bam files\n",
    "for f in *.bam\n",
    "do\n",
    "samtools index $f\n",
    "done\n",
    "\n"
   ]
  },
  {
   "cell_type": "markdown",
   "id": "728bdfd0",
   "metadata": {},
   "source": [
    "## Use CoverM to make a coverage table\n",
    "- https://github.com/wwood/CoverM\n",
    "- https://wwood.github.io/CoverM/coverm-genome.html#author"
   ]
  },
  {
   "cell_type": "code",
   "execution_count": null,
   "id": "65b1d3f4",
   "metadata": {},
   "outputs": [],
   "source": [
    "# Create coverage table\n",
    "source ~/.bashrc\n",
    "conda activate coverm\n",
    "    \n",
    "coverm contig -m mean --min-covered-fraction 0.75 -b *.bam > 220118_coverM_75_tomato.tsv\n"
   ]
  },
  {
   "cell_type": "markdown",
   "id": "fe3d269a",
   "metadata": {},
   "source": []
  }
 ],
 "metadata": {
  "kernelspec": {
   "display_name": "Python 3",
   "language": "python",
   "name": "python3"
  },
  "language_info": {
   "codemirror_mode": {
    "name": "ipython",
    "version": 3
   },
   "file_extension": ".py",
   "mimetype": "text/x-python",
   "name": "python",
   "nbconvert_exporter": "python",
   "pygments_lexer": "ipython3",
   "version": "3.8.5"
  }
 },
 "nbformat": 4,
 "nbformat_minor": 5
}
